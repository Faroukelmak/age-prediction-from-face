{
  "cells": [
    {
      "cell_type": "code",
      "execution_count": 1,
      "metadata": {
        "id": "4C0pVXdNIAUU"
      },
      "outputs": [],
      "source": [
        "import torch\n",
        "import torch.nn as nn\n",
        "import torch.optim as optim\n",
        "from torch.utils.data import DataLoader, Dataset\n",
        "import torchvision.transforms as transforms\n",
        "import numpy as np\n",
        "import cv2\n",
        "import os\n",
        "from sklearn.model_selection import train_test_split\n"
      ]
    },
    {
      "cell_type": "code",
      "execution_count": 2,
      "metadata": {
        "id": "zAjdPENlIFgW"
      },
      "outputs": [],
      "source": [
        "dataset_path = r\"C:\\Users\\Farouk\\Desktop\\age-prediction\\data\\data-raw\\UTKFace\"\n",
        "image_files = [os.path.join(dataset_path, f) for f in os.listdir(dataset_path) if f.endswith(\".jpg\")]\n",
        "ages = [int(os.path.basename(f).split(\"_\")[0]) for f in image_files]\n",
        "train_files, val_files, train_ages, val_ages = train_test_split(image_files, ages, test_size=0.2, random_state=42)\n"
      ]
    },
    {
      "cell_type": "code",
      "execution_count": 3,
      "metadata": {
        "id": "APtt5zctIJEp"
      },
      "outputs": [],
      "source": [
        "class UTKFaceDataset(Dataset):\n",
        "    def __init__(self, file_paths, ages, transform=None):\n",
        "        self.file_paths = file_paths\n",
        "        self.ages = ages\n",
        "        self.transform = transform\n",
        "\n",
        "    def __len__(self):\n",
        "        return len(self.file_paths)\n",
        "\n",
        "    def __getitem__(self, idx):\n",
        "        img_path = self.file_paths[idx]\n",
        "        age = self.ages[idx]\n",
        "        img = cv2.imread(img_path)\n",
        "        img = cv2.cvtColor(img, cv2.COLOR_BGR2RGB)\n",
        "        img = cv2.resize(img, (128, 128))\n",
        "        if self.transform:\n",
        "            img = self.transform(img)\n",
        "        return img, age"
      ]
    },
    {
      "cell_type": "code",
      "execution_count": 4,
      "metadata": {
        "id": "RjzCSkKhIJmX"
      },
      "outputs": [],
      "source": [
        "# Transforms (using torchvision)\n",
        "train_transforms = transforms.Compose([\n",
        "    transforms.ToPILImage(), # Convert to PIL Image for transforms\n",
        "    transforms.RandomHorizontalFlip(),\n",
        "    transforms.RandomRotation(20),\n",
        "    transforms.ToTensor(),\n",
        "    transforms.Normalize(mean=[0.485, 0.456, 0.406], std=[0.229, 0.224, 0.225]) # Example normalization\n",
        "])"
      ]
    },
    {
      "cell_type": "code",
      "execution_count": 5,
      "metadata": {},
      "outputs": [],
      "source": [
        "val_transforms = transforms.Compose([\n",
        "    transforms.ToPILImage(),\n",
        "    transforms.ToTensor(),\n",
        "    transforms.Normalize(mean=[0.485, 0.456, 0.406], std=[0.229, 0.224, 0.225])\n",
        "])"
      ]
    },
    {
      "cell_type": "code",
      "execution_count": 6,
      "metadata": {
        "id": "nYuxsXgaIMeZ"
      },
      "outputs": [],
      "source": [
        "# Datasets and DataLoaders\n",
        "train_dataset = UTKFaceDataset(train_files, train_ages, transform=train_transforms)\n",
        "val_dataset = UTKFaceDataset(val_files, val_ages, transform=val_transforms)\n",
        "\n",
        "batch_size = 64\n",
        "train_loader = DataLoader(train_dataset, batch_size=batch_size, shuffle=True)\n",
        "val_loader = DataLoader(val_dataset, batch_size=batch_size, shuffle=False) # No shuffle for validation\n"
      ]
    },
    {
      "cell_type": "code",
      "execution_count": 7,
      "metadata": {
        "id": "lKg4iKtpIOBN"
      },
      "outputs": [],
      "source": [
        "# TinyVGG model (PyTorch)\n",
        "class TinyVGG(nn.Module):\n",
        "    def __init__(self):\n",
        "        super(TinyVGG, self).__init__()\n",
        "        self.conv_layers = nn.Sequential(\n",
        "            nn.Conv2d(3, 32, kernel_size=3, padding=1),\n",
        "            nn.ReLU(),\n",
        "            nn.MaxPool2d(2),\n",
        "            nn.Conv2d(32, 64, kernel_size=3, padding=1),\n",
        "            nn.ReLU(),\n",
        "            nn.MaxPool2d(2),\n",
        "            nn.Conv2d(64, 128, kernel_size=3, padding=1),\n",
        "            nn.ReLU(),\n",
        "            nn.MaxPool2d(2)\n",
        "        )\n",
        "        self.fc_layers = nn.Sequential(\n",
        "            nn.Flatten(),\n",
        "            nn.Linear(128 * 16 * 16, 256),\n",
        "            nn.ReLU(),\n",
        "            nn.Dropout(0.5),\n",
        "            nn.Linear(256, 1)  # Regression output\n",
        "        )\n",
        "\n",
        "    def forward(self, x):\n",
        "        x = self.conv_layers(x)\n",
        "        x = self.fc_layers(x)\n",
        "        return x"
      ]
    },
    {
      "cell_type": "code",
      "execution_count": 8,
      "metadata": {},
      "outputs": [],
      "source": [
        "model = TinyVGG()\n",
        "device = torch.device(\"cuda\" if torch.cuda.is_available() else \"cpu\")\n",
        "model.to(device) # Move model to GPU if available\n",
        "\n",
        "criterion = nn.L1Loss()  # MAE loss\n",
        "optimizer = optim.Adam(model.parameters())\n",
        "\n",
        "train_steps = len(train_loader) # No need for // batch_size with DataLoader\n",
        "val_steps = len(val_loader)"
      ]
    },
    {
      "cell_type": "code",
      "execution_count": 9,
      "metadata": {},
      "outputs": [],
      "source": [
        "def train_model(model, train_loader, val_loader, criterion, optimizer, epochs=30):\n",
        "    best_val_loss = float('inf')\n",
        "    patience = 3\n",
        "    epochs_no_improve = 0\n",
        "    history = {'train_loss': [], 'val_loss': []}\n",
        "\n",
        "    for epoch in range(epochs):\n",
        "        model.train()\n",
        "        train_loss = 0.0\n",
        "        for images, ages in train_loader:\n",
        "            images = images.to(device)\n",
        "            ages = ages.to(device).float().unsqueeze(1) # Move to device, make float, add dimension\n",
        "\n",
        "            optimizer.zero_grad()\n",
        "            outputs = model(images)\n",
        "            loss = criterion(outputs, ages)\n",
        "            loss.backward()\n",
        "            optimizer.step()\n",
        "\n",
        "            train_loss += loss.item()\n",
        "\n",
        "        train_loss /= len(train_loader)\n",
        "        history['train_loss'].append(train_loss)\n",
        "\n",
        "        model.eval()\n",
        "        val_loss = 0.0\n",
        "        with torch.no_grad():\n",
        "            for images, ages in val_loader:\n",
        "                images = images.to(device)\n",
        "                ages = ages.to(device).float().unsqueeze(1)\n",
        "\n",
        "                outputs = model(images)\n",
        "                loss = criterion(outputs, ages)\n",
        "                val_loss += loss.item()\n",
        "\n",
        "        val_loss /= len(val_loader)\n",
        "        history['val_loss'].append(val_loss)\n",
        "\n",
        "        print(f\"Epoch {epoch+1}/{epochs}, Train Loss: {train_loss:.4f}, Val Loss: {val_loss:.4f}\")\n",
        "\n",
        "        if val_loss < best_val_loss:\n",
        "            best_val_loss = val_loss\n",
        "            epochs_no_improve = 0\n",
        "        else:\n",
        "            epochs_no_improve += 1\n",
        "            if epochs_no_improve >= patience:\n",
        "                print(\"Early stopping!\")\n",
        "                break\n",
        "    return model, history\n"
      ]
    },
    {
      "cell_type": "code",
      "execution_count": 10,
      "metadata": {},
      "outputs": [],
      "source": [
        "import mlflow\n",
        "import mlflow.pytorch"
      ]
    },
    {
      "cell_type": "code",
      "execution_count": 11,
      "metadata": {},
      "outputs": [],
      "source": [
        "mlflow.tensorflow.autolog()"
      ]
    },
    {
      "cell_type": "code",
      "execution_count": 12,
      "metadata": {},
      "outputs": [
        {
          "name": "stderr",
          "output_type": "stream",
          "text": [
            "2025/02/08 22:17:27 INFO mlflow.tracking.fluent: Experiment with name 'Age_prediction_Experiment ' does not exist. Creating a new experiment.\n"
          ]
        },
        {
          "data": {
            "text/plain": [
              "<Experiment: artifact_location='file:///c:/Users/Farouk/AppData/Local/Microsoft/Windows/INetCache/IE/1ZYJTOHE/mlruns/381621899599383846', creation_time=1739049447173, experiment_id='381621899599383846', last_update_time=1739049447173, lifecycle_stage='active', name='Age_prediction_Experiment ', tags={}>"
            ]
          },
          "execution_count": 12,
          "metadata": {},
          "output_type": "execute_result"
        }
      ],
      "source": [
        "mlflow.set_experiment(\"Age_prediction_Experiment \")"
      ]
    },
    {
      "cell_type": "code",
      "execution_count": 13,
      "metadata": {},
      "outputs": [
        {
          "name": "stdout",
          "output_type": "stream",
          "text": [
            "Epoch 1/30, Train Loss: 13.9719, Val Loss: 11.4516\n",
            "Epoch 2/30, Train Loss: 11.1254, Val Loss: 9.5211\n",
            "Epoch 3/30, Train Loss: 9.9151, Val Loss: 8.3874\n",
            "Epoch 4/30, Train Loss: 9.1024, Val Loss: 8.0438\n",
            "Epoch 5/30, Train Loss: 8.6068, Val Loss: 7.7405\n",
            "Epoch 6/30, Train Loss: 8.2867, Val Loss: 7.3239\n",
            "Epoch 7/30, Train Loss: 7.9921, Val Loss: 7.2306\n",
            "Epoch 8/30, Train Loss: 7.8453, Val Loss: 6.8888\n",
            "Epoch 9/30, Train Loss: 7.5986, Val Loss: 6.7418\n",
            "Epoch 10/30, Train Loss: 7.5235, Val Loss: 6.7270\n",
            "Epoch 11/30, Train Loss: 7.4013, Val Loss: 6.8151\n",
            "Epoch 12/30, Train Loss: 7.4327, Val Loss: 6.6322\n",
            "Epoch 13/30, Train Loss: 7.2202, Val Loss: 6.6235\n",
            "Epoch 14/30, Train Loss: 7.1989, Val Loss: 6.6815\n",
            "Epoch 15/30, Train Loss: 7.1074, Val Loss: 6.5086\n",
            "Epoch 16/30, Train Loss: 7.1878, Val Loss: 6.4100\n",
            "Epoch 17/30, Train Loss: 6.9989, Val Loss: 6.8366\n",
            "Epoch 18/30, Train Loss: 7.0160, Val Loss: 6.4667\n"
          ]
        },
        {
          "name": "stderr",
          "output_type": "stream",
          "text": [
            "2025/02/08 22:34:42 WARNING mlflow.utils.requirements_utils: Found torch version (2.6.0+cu126) contains a local version label (+cu126). MLflow logged a pip requirement for this package as 'torch==2.6.0' without the local version label to make it installable from PyPI. To specify pip requirements containing local version labels, please use `conda_env` or `pip_requirements`.\n"
          ]
        },
        {
          "name": "stdout",
          "output_type": "stream",
          "text": [
            "Epoch 19/30, Train Loss: 6.9047, Val Loss: 6.8773\n",
            "Early stopping!\n"
          ]
        },
        {
          "name": "stderr",
          "output_type": "stream",
          "text": [
            "2025/02/08 22:34:50 WARNING mlflow.utils.requirements_utils: Found torch version (2.6.0+cu126) contains a local version label (+cu126). MLflow logged a pip requirement for this package as 'torch==2.6.0' without the local version label to make it installable from PyPI. To specify pip requirements containing local version labels, please use `conda_env` or `pip_requirements`.\n",
            "2025/02/08 22:34:50 WARNING mlflow.models.model: Model logged without a signature and input example. Please set `input_example` parameter when logging the model to auto infer the model signature.\n"
          ]
        }
      ],
      "source": [
        "with mlflow.start_run(run_name=\"TinyVGG_Model_best\"):\n",
        "    trained_model, history = train_model(model, train_loader, val_loader, criterion, optimizer)\n",
        "    mlflow.pytorch.log_model(trained_model, \"tinyvgg_model\")\n",
        "    mlflow.log_dict(history, \"training_history.json\") # Log history"
      ]
    },
    {
      "cell_type": "code",
      "execution_count": 14,
      "metadata": {
        "id": "MWgpRE4GIhwX"
      },
      "outputs": [
        {
          "name": "stdout",
          "output_type": "stream",
          "text": [
            "Model saved to: C:\\Users\\Farouk\\Desktop\\age-prediction\\models\\Tinyvgg_Best.pth\n"
          ]
        }
      ],
      "source": [
        "save_directory = r\"C:\\Users\\Farouk\\Desktop\\age-prediction\\models\" # Example for Windows - Replace with your path\n",
        "model_save_path = os.path.join(save_directory, \"Tinyvgg_Best.pth\") # Combine path and filename\n",
        "\n",
        "torch.save(model.state_dict(), model_save_path)  # Save the state dictionary\n",
        "print(f\"Model saved to: {model_save_path}\")  # Print confirmation message"
      ]
    },
    {
      "cell_type": "code",
      "execution_count": null,
      "metadata": {},
      "outputs": [],
      "source": []
    }
  ],
  "metadata": {
    "colab": {
      "provenance": []
    },
    "kernelspec": {
      "display_name": "Deep_learning",
      "language": "python",
      "name": "python3"
    },
    "language_info": {
      "codemirror_mode": {
        "name": "ipython",
        "version": 3
      },
      "file_extension": ".py",
      "mimetype": "text/x-python",
      "name": "python",
      "nbconvert_exporter": "python",
      "pygments_lexer": "ipython3",
      "version": "3.12.9"
    }
  },
  "nbformat": 4,
  "nbformat_minor": 0
}
